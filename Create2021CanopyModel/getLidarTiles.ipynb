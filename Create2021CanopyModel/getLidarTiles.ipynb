{
 "cells": [
  {
   "cell_type": "markdown",
   "metadata": {},
   "source": [
    "## Code to download selected tiles of MA lidar that intersect/overlap with Worcester City Limits\n",
    "\n",
    "### Must be run in ArcPro"
   ]
  },
  {
   "cell_type": "code",
   "execution_count": 47,
   "metadata": {},
   "outputs": [],
   "source": [
    "import arcpy\n",
    "import requests\n",
    "import os"
   ]
  },
  {
   "cell_type": "code",
   "execution_count": 48,
   "metadata": {},
   "outputs": [],
   "source": [
    "import pathlib"
   ]
  },
  {
   "cell_type": "code",
   "execution_count": 49,
   "metadata": {},
   "outputs": [],
   "source": [
    "arcpy.env.workspace = \"G:\\My Drive\\Clark\\HERO\\HERO Geospatial\"\n",
    "lidar_cache = \"G:\\\\My Drive\\\\Clark\\\\HERO\\\\HERO Geospatial\\\\WooLidar\\\\lidarcache\\\\\""
   ]
  },
  {
   "cell_type": "code",
   "execution_count": 50,
   "metadata": {},
   "outputs": [
    {
     "data": {
      "text/plain": [
       "'G:\\\\My Drive\\\\Clark\\\\HERO\\\\HERO Geospatial\\\\WooLidar\\\\lidarcache\\\\'"
      ]
     },
     "execution_count": 50,
     "metadata": {},
     "output_type": "execute_result"
    }
   ],
   "source": [
    "lidar_cache"
   ]
  },
  {
   "cell_type": "code",
   "execution_count": 51,
   "metadata": {},
   "outputs": [],
   "source": [
    "address = \"https://rockyweb.usgs.gov/vdelivery/Datasets/Staged/Elevation/LPC/Projects/MA_CentralEastern_2021_B21/MA_CentralEastern_1_2021/LAZ/USGS_LPC_MA_CentralEastern_2021_B21_\"\n",
    "tiles = []\n",
    "with arcpy.da.SearchCursor(\"WORCESTER_LIDAR_TILES\", [\"TILENAME\"]) as cursor:\n",
    "    for row in cursor:\n",
    "        tiles.append(address+row[0]+\".laz\")"
   ]
  },
  {
   "cell_type": "code",
   "execution_count": 52,
   "metadata": {
    "scrolled": true
   },
   "outputs": [
    {
     "data": {
      "text/plain": [
       "'https://rockyweb.usgs.gov/vdelivery/Datasets/Staged/Elevation/LPC/Projects/MA_CentralEastern_2021_B21/MA_CentralEastern_1_2021/LAZ/USGS_LPC_MA_CentralEastern_2021_B21_19TBG270690.laz'"
      ]
     },
     "execution_count": 52,
     "metadata": {},
     "output_type": "execute_result"
    }
   ],
   "source": [
    "tiles[1]"
   ]
  },
  {
   "cell_type": "code",
   "execution_count": 53,
   "metadata": {},
   "outputs": [],
   "source": [
    "def all_tiles_to_dataset(tiles):\n",
    "    # The function will perform all actions for a tile then delete the source .laz to consesrve disk space\n",
    "    for tile in tiles:\n",
    "        # get tile from address\n",
    "        response = requests.get(tile)\n",
    "        filename = lidar_cache + tile[-14:]\n",
    "        with open(filename, 'wb') as file:\n",
    "            file.write(response.content)\n",
    "        # convert laz to las\n",
    "        arcpy.conversion.ConvertLas(filename, lidar_cache)\n",
    "        # remove las\n",
    "        os.remove(filename)\n",
    "    # create las dataset from las files\n",
    "    arcpy.management.CreateLasDataset(lidar_cache, \"worcester.lasd\", \"RECURSION\")\n"
   ]
  },
  {
   "cell_type": "code",
   "execution_count": 54,
   "metadata": {},
   "outputs": [],
   "source": [
    "all_tiles_to_dataset(tiles)"
   ]
  },
  {
   "cell_type": "code",
   "execution_count": null,
   "metadata": {},
   "outputs": [],
   "source": []
  }
 ],
 "metadata": {
  "kernelspec": {
   "display_name": "ArcGISPro",
   "language": "Python",
   "name": "python3"
  },
  "language_info": {
   "file_extension": ".py",
   "name": "python",
   "version": "3"
  }
 },
 "nbformat": 4,
 "nbformat_minor": 2
}
